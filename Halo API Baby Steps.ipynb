{
 "cells": [
  {
   "cell_type": "code",
   "execution_count": 4,
   "metadata": {
    "collapsed": false
   },
   "outputs": [
    {
     "name": "stdout",
     "output_type": "stream",
     "text": [
      "200\n"
     ]
    },
    {
     "data": {
      "text/plain": [
       "{'contentId': 'f27a65eb-2d11-4965-aa9c-daa088fa5c9c',\n",
       " 'description': 'No shields, no motion tracker.  Aim for the Head!',\n",
       " 'gameMode': 'Arena',\n",
       " 'id': 'f27a65eb-2d11-4965-aa9c-daa088fa5c9c',\n",
       " 'imageUrl': None,\n",
       " 'isActive': False,\n",
       " 'isRanked': True,\n",
       " 'name': 'SWAT'}"
      ]
     },
     "execution_count": 4,
     "metadata": {},
     "output_type": "execute_result"
    }
   ],
   "source": [
    "#Get playlist metadata\n",
    "\n",
    "import requests\n",
    "import urllib\n",
    "\n",
    "headers = {\n",
    "    # Request headers\n",
    "    'Ocp-Apim-Subscription-Key': '785e3ae3595445c0bb0550afd7c494f6',\n",
    "}\n",
    "\n",
    "params = urllib.parse.urlencode({})\n",
    "\n",
    "response = requests.get(\"https://www.haloapi.com/metadata/h5/metadata/playlists\", headers=headers)\n",
    "status_code = response.status_code\n",
    "print(status_code)\n",
    "playlists = response.json()\n",
    "\n",
    "playlists[1]"
   ]
  },
  {
   "cell_type": "code",
   "execution_count": 5,
   "metadata": {
    "collapsed": false,
    "scrolled": false
   },
   "outputs": [
    {
     "name": "stdout",
     "output_type": "stream",
     "text": [
      "200\n"
     ]
    }
   ],
   "source": [
    "#Get season metadata\n",
    "\n",
    "headers = {\n",
    "    # Request headers\n",
    "    'Ocp-Apim-Subscription-Key': '785e3ae3595445c0bb0550afd7c494f6',\n",
    "}\n",
    "\n",
    "params = urllib.parse.urlencode({\n",
    "})\n",
    "\n",
    "response = requests.get(\"https://www.haloapi.com/metadata/h5/metadata/seasons\", headers=headers)\n",
    "status_code = response.status_code\n",
    "print(status_code)\n",
    "seasons = response.json()"
   ]
  },
  {
   "cell_type": "code",
   "execution_count": 6,
   "metadata": {
    "collapsed": false
   },
   "outputs": [
    {
     "name": "stdout",
     "output_type": "stream",
     "text": [
      "200\n"
     ]
    },
    {
     "data": {
      "text/plain": [
       "{'Count': 5,\n",
       " 'Links': {'Self': {'AcknowledgementTypeId': 0,\n",
       "   'AuthenticationLifetimeExtensionSupported': False,\n",
       "   'AuthorityId': 'spartanstats',\n",
       "   'Path': '/h5/player-leaderboards/csr/2041d318-dd22-47c2-a487-2818ecf14e41/c98949ae-60a8-43dc-85d7-0feb0b92e719',\n",
       "   'QueryString': '?include-xuids=false&view=full&include-ratings=false&include-times=false&count=5',\n",
       "   'RetryPolicyId': '',\n",
       "   'TopicName': ''}},\n",
       " 'ResultCount': 5,\n",
       " 'Results': [{'Player': {'Gamertag': 'LethuL', 'Xuid': None},\n",
       "   'Rank': 1,\n",
       "   'Score': {'Csr': 2705,\n",
       "    'DesignationId': 7,\n",
       "    'PercentToNextTier': 0,\n",
       "    'Rank': 1,\n",
       "    'Tier': 1}},\n",
       "  {'Player': {'Gamertag': 'Roy the LION', 'Xuid': None},\n",
       "   'Rank': 2,\n",
       "   'Score': {'Csr': 2658,\n",
       "    'DesignationId': 7,\n",
       "    'PercentToNextTier': 0,\n",
       "    'Rank': 2,\n",
       "    'Tier': 1}},\n",
       "  {'Player': {'Gamertag': 'HAMY', 'Xuid': None},\n",
       "   'Rank': 3,\n",
       "   'Score': {'Csr': 2654,\n",
       "    'DesignationId': 7,\n",
       "    'PercentToNextTier': 0,\n",
       "    'Rank': 3,\n",
       "    'Tier': 1}},\n",
       "  {'Player': {'Gamertag': 'lmpulsion', 'Xuid': None},\n",
       "   'Rank': 4,\n",
       "   'Score': {'Csr': 2622,\n",
       "    'DesignationId': 7,\n",
       "    'PercentToNextTier': 0,\n",
       "    'Rank': 4,\n",
       "    'Tier': 1}},\n",
       "  {'Player': {'Gamertag': 'Arkanum JS', 'Xuid': None},\n",
       "   'Rank': 5,\n",
       "   'Score': {'Csr': 2611,\n",
       "    'DesignationId': 7,\n",
       "    'PercentToNextTier': 0,\n",
       "    'Rank': 5,\n",
       "    'Tier': 1}}],\n",
       " 'Start': 0}"
      ]
     },
     "execution_count": 6,
     "metadata": {},
     "output_type": "execute_result"
    }
   ],
   "source": [
    "#Get player leaderboard\n",
    "\n",
    "headers = {\n",
    "    # Request headers\n",
    "    'Ocp-Apim-Subscription-Key': '785e3ae3595445c0bb0550afd7c494f6',\n",
    "}\n",
    "\n",
    "params = urllib.parse.urlencode({\n",
    "        'count': '5',\n",
    "})\n",
    "\n",
    "response = requests.get(\"https://www.haloapi.com/stats/h5/player-leaderboards/csr/2041d318-dd22-47c2-a487-2818ecf14e41/c98949ae-60a8-43dc-85d7-0feb0b92e719?%s\" % params, headers=headers)\n",
    "status_code = response.status_code\n",
    "print(status_code)\n",
    "leaderboard = response.json()\n",
    "\n",
    "leaderboard"
   ]
  },
  {
   "cell_type": "code",
   "execution_count": 25,
   "metadata": {
    "collapsed": false
   },
   "outputs": [
    {
     "name": "stdout",
     "output_type": "stream",
     "text": [
      "HAMY\n",
      "2654\n"
     ]
    }
   ],
   "source": [
    "#test extracting specific data\n",
    "\n",
    "gt = leaderboard[\"Results\"][2][\"Player\"][\"Gamertag\"]\n",
    "csr = leaderboard[\"Results\"][2][\"Score\"][\"Csr\"]\n",
    "print(gt)\n",
    "print(csr)"
   ]
  },
  {
   "cell_type": "code",
   "execution_count": 35,
   "metadata": {
    "collapsed": false
   },
   "outputs": [
    {
     "name": "stdout",
     "output_type": "stream",
     "text": [
      "Rank 1\n",
      "LethuL\n",
      "CSR: 2705\n",
      "Rank 2\n",
      "Roy the LION\n",
      "CSR: 2658\n",
      "Rank 3\n",
      "HAMY\n",
      "CSR: 2654\n",
      "Rank 4\n",
      "lmpulsion\n",
      "CSR: 2622\n",
      "Rank 5\n",
      "Arkanum JS\n",
      "CSR: 2611\n"
     ]
    }
   ],
   "source": [
    "# practice a for loop to get all the values\n",
    "for something in range(0, len(leaderboard[\"Results\"])):\n",
    "    gt = leaderboard[\"Results\"][something][\"Player\"][\"Gamertag\"]\n",
    "    csr = leaderboard[\"Results\"][something][\"Score\"][\"Csr\"]\n",
    "    print(\"Rank\", something + 1)\n",
    "    print(gt)\n",
    "    print(\"CSR:\", csr)"
   ]
  },
  {
   "cell_type": "code",
   "execution_count": 51,
   "metadata": {
    "collapsed": false
   },
   "outputs": [
    {
     "name": "stdout",
     "output_type": "stream",
     "text": [
      "200\n"
     ]
    }
   ],
   "source": [
    "#Get season metadata\n",
    "\n",
    "headers = {\n",
    "    # Request headers\n",
    "    'Ocp-Apim-Subscription-Key': '785e3ae3595445c0bb0550afd7c494f6',\n",
    "}\n",
    "params = urllib.parse.urlencode({})\n",
    "\n",
    "response = requests.get(\"https://www.haloapi.com/metadata/h5/metadata/seasons\", headers=headers)\n",
    "status_code = response.status_code\n",
    "seasons = response.json()\n",
    "\n",
    "#Get playlists metadata\n",
    "response = requests.get(\"https://www.haloapi.com/metadata/h5/metadata/playlists\", headers=headers)\n",
    "status_code = response.status_code\n",
    "print(status_code)\n",
    "playlists = response.json()"
   ]
  },
  {
   "cell_type": "code",
   "execution_count": 69,
   "metadata": {
    "collapsed": false
   },
   "outputs": [
    {
     "data": {
      "text/html": [
       "<div>\n",
       "<table border=\"1\" class=\"dataframe\">\n",
       "  <thead>\n",
       "    <tr style=\"text-align: right;\">\n",
       "      <th></th>\n",
       "      <th>id</th>\n",
       "      <th>name</th>\n",
       "    </tr>\n",
       "  </thead>\n",
       "  <tbody>\n",
       "    <tr>\n",
       "      <th>0</th>\n",
       "      <td>2041d318-dd22-47c2-a487-2818ecf14e41</td>\n",
       "      <td>Preseason</td>\n",
       "    </tr>\n",
       "    <tr>\n",
       "      <th>1</th>\n",
       "      <td>2fcc20a0-53ff-4ffb-8f72-eebb2e419273</td>\n",
       "      <td>January 2016 Season</td>\n",
       "    </tr>\n",
       "    <tr>\n",
       "      <th>2</th>\n",
       "      <td>b46c2095-4ca6-4f4b-a565-4702d7cfe586</td>\n",
       "      <td>February 2016 Season</td>\n",
       "    </tr>\n",
       "    <tr>\n",
       "      <th>3</th>\n",
       "      <td>b28521af-7c40-4fe2-8d6e-158a5c2d9c03</td>\n",
       "      <td>March 2016 Season</td>\n",
       "    </tr>\n",
       "    <tr>\n",
       "      <th>4</th>\n",
       "      <td>654493ed-b12d-40ee-902b-db809433f158</td>\n",
       "      <td>April 2016 Season</td>\n",
       "    </tr>\n",
       "    <tr>\n",
       "      <th>5</th>\n",
       "      <td>8787875e-d2c6-4c50-b949-38e22728f9f4</td>\n",
       "      <td>May 2016 Season</td>\n",
       "    </tr>\n",
       "    <tr>\n",
       "      <th>6</th>\n",
       "      <td>6b0ac5d0-5de8-4c51-a4fa-4d5911a90176</td>\n",
       "      <td>June-July 2016 Season</td>\n",
       "    </tr>\n",
       "    <tr>\n",
       "      <th>7</th>\n",
       "      <td>f245fb7d-09ce-4011-8e7e-8a08c96c4d2a</td>\n",
       "      <td>August 2016 Season</td>\n",
       "    </tr>\n",
       "    <tr>\n",
       "      <th>8</th>\n",
       "      <td>8c7d848f-1437-4ce1-8e6a-f41850075d01</td>\n",
       "      <td>Fall 2016 Season</td>\n",
       "    </tr>\n",
       "  </tbody>\n",
       "</table>\n",
       "</div>"
      ],
      "text/plain": [
       "                                     id                   name\n",
       "0  2041d318-dd22-47c2-a487-2818ecf14e41              Preseason\n",
       "1  2fcc20a0-53ff-4ffb-8f72-eebb2e419273    January 2016 Season\n",
       "2  b46c2095-4ca6-4f4b-a565-4702d7cfe586   February 2016 Season\n",
       "3  b28521af-7c40-4fe2-8d6e-158a5c2d9c03      March 2016 Season\n",
       "4  654493ed-b12d-40ee-902b-db809433f158      April 2016 Season\n",
       "5  8787875e-d2c6-4c50-b949-38e22728f9f4        May 2016 Season\n",
       "6  6b0ac5d0-5de8-4c51-a4fa-4d5911a90176  June-July 2016 Season\n",
       "7  f245fb7d-09ce-4011-8e7e-8a08c96c4d2a     August 2016 Season\n",
       "8  8c7d848f-1437-4ce1-8e6a-f41850075d01       Fall 2016 Season"
      ]
     },
     "execution_count": 69,
     "metadata": {},
     "output_type": "execute_result"
    }
   ],
   "source": [
    "seasons_df = pd.DataFrame()\n",
    "seasons_df = seasons_df.from_dict(seasons)\n",
    "\n",
    "seasons_df = seasons_df.drop([\"contentId\", \"endDate\", \"iconUrl\", \"isActive\", \"startDate\", \"playlists\"], axis = 1)\n",
    "seasons_df\n",
    "\n",
    "#seasons_df[\"playlists\"][1]"
   ]
  },
  {
   "cell_type": "code",
   "execution_count": 68,
   "metadata": {
    "collapsed": false
   },
   "outputs": [
    {
     "data": {
      "text/html": [
       "<div>\n",
       "<table border=\"1\" class=\"dataframe\">\n",
       "  <thead>\n",
       "    <tr style=\"text-align: right;\">\n",
       "      <th></th>\n",
       "      <th>id</th>\n",
       "      <th>name</th>\n",
       "    </tr>\n",
       "  </thead>\n",
       "  <tbody>\n",
       "    <tr>\n",
       "      <th>4</th>\n",
       "      <td>c98949ae-60a8-43dc-85d7-0feb0b92e719</td>\n",
       "      <td>Team Arena</td>\n",
       "    </tr>\n",
       "  </tbody>\n",
       "</table>\n",
       "</div>"
      ],
      "text/plain": [
       "                                     id        name\n",
       "4  c98949ae-60a8-43dc-85d7-0feb0b92e719  Team Arena"
      ]
     },
     "execution_count": 68,
     "metadata": {},
     "output_type": "execute_result"
    }
   ],
   "source": [
    "playlists_df = pd.DataFrame()\n",
    "playlists_df = playlists_df.from_dict(playlists)\n",
    "\n",
    "playlists_df = playlists_df.drop([\"contentId\", \"description\", \"gameMode\", \"imageUrl\", \"isActive\", \"isRanked\"], axis = 1)\n",
    "Team_Arena_id = playlists_df[playlists_df[\"name\"] == \"Team Arena\"]\n",
    "\n",
    "Team_Arena_id"
   ]
  },
  {
   "cell_type": "markdown",
   "metadata": {},
   "source": [
    "# Working from here\n",
    "I can get a season's leaderboard, and I can format that into a good DataFrame with the relevant info and make a plot with the gamertags as the x labels.\n",
    "\n",
    "I need to figure out how to add each season's DataFrame with a column indicating which season. This means I need to know how to iterate this process effectively to get one big DataFrame. Then I can plot the CSR's needed to be in the top 5 across all seasons."
   ]
  },
  {
   "cell_type": "code",
   "execution_count": null,
   "metadata": {
    "collapsed": true
   },
   "outputs": [],
   "source": [
    "#Get player leaderboards for all seasons\n",
    "\n",
    "headers = {\n",
    "    # Request headers\n",
    "    'Ocp-Apim-Subscription-Key': '785e3ae3595445c0bb0550afd7c494f6',\n",
    "}\n",
    "\n",
    "params = urllib.parse.urlencode({\n",
    "        'count': '10',\n",
    "})\n",
    "\n",
    "\n",
    "#Access API for each season of Team Arena and add to a dataframe\n",
    "LDRBRD = pd.DataFrame()\n",
    "#make a dictionary to hold all the dictionaries we receive\n",
    "for id_num in seasons_df[\"id\"]:\n",
    "    season_id = id_num\n",
    "    playlist_id = Team_Arena_id.iloc[0][0] #Team Arena's id doesn't change, change for other playlists\n",
    "#place seasons and playlists into url\n",
    "    response = requests.get(\n",
    "        \"https://www.haloapi.com/stats/h5/player-leaderboards/csr/%s/%s?%s\" % season_id, playlist_id, params,\n",
    "        headers=headers\n",
    "    )\n",
    "##status_code = response.status_code\n",
    "##print(status_code)\n",
    "    #add to the LDRBRD\n",
    "    leaderboard = response.json()\n",
    "    LDRBRD = LDRBRD.from_dict(leaderboard)\n",
    "    #LDRBRD.update(leaderboard)"
   ]
  },
  {
   "cell_type": "code",
   "execution_count": 133,
   "metadata": {
    "collapsed": false
   },
   "outputs": [
    {
     "data": {
      "text/html": [
       "<div>\n",
       "<table border=\"1\" class=\"dataframe\">\n",
       "  <thead>\n",
       "    <tr style=\"text-align: right;\">\n",
       "      <th></th>\n",
       "      <th>Gamertag</th>\n",
       "      <th>Rank</th>\n",
       "      <th>CSR Points</th>\n",
       "    </tr>\n",
       "  </thead>\n",
       "  <tbody>\n",
       "    <tr>\n",
       "      <th>0</th>\n",
       "      <td>LethuL</td>\n",
       "      <td>1</td>\n",
       "      <td>2705</td>\n",
       "    </tr>\n",
       "    <tr>\n",
       "      <th>1</th>\n",
       "      <td>Roy the LION</td>\n",
       "      <td>2</td>\n",
       "      <td>2658</td>\n",
       "    </tr>\n",
       "    <tr>\n",
       "      <th>2</th>\n",
       "      <td>HAMY</td>\n",
       "      <td>3</td>\n",
       "      <td>2654</td>\n",
       "    </tr>\n",
       "    <tr>\n",
       "      <th>3</th>\n",
       "      <td>lmpulsion</td>\n",
       "      <td>4</td>\n",
       "      <td>2622</td>\n",
       "    </tr>\n",
       "    <tr>\n",
       "      <th>4</th>\n",
       "      <td>Arkanum JS</td>\n",
       "      <td>5</td>\n",
       "      <td>2611</td>\n",
       "    </tr>\n",
       "  </tbody>\n",
       "</table>\n",
       "</div>"
      ],
      "text/plain": [
       "       Gamertag  Rank  CSR Points\n",
       "0        LethuL     1        2705\n",
       "1  Roy the LION     2        2658\n",
       "2          HAMY     3        2654\n",
       "3     lmpulsion     4        2622\n",
       "4    Arkanum JS     5        2611"
      ]
     },
     "execution_count": 133,
     "metadata": {},
     "output_type": "execute_result"
    }
   ],
   "source": [
    "lbdf = pd.DataFrame()\n",
    "lbdf = lbdf.from_dict(leaderboard[\"Results\"])\n",
    "Gamertag = pd.Series()\n",
    "CSR = pd.Series()\n",
    "for x in range(0, len(lbdf)):\n",
    "    Gamertag.set_value(x, lbdf[\"Player\"][x][\"Gamertag\"])\n",
    "    CSR.set_value(x, lbdf[\"Score\"][x][\"Csr\"])\n",
    "    \n",
    "#now that we have our values in Series vars, put them into the dataframe and drop the unnecessary ones\n",
    "\n",
    "lbdf = lbdf.drop([\"Player\", \"Score\"], axis = 1)\n",
    "lbdf.insert(0, \"Gamertag\", Gamertag)\n",
    "lbdf.insert(2, \"CSR Points\", CSR)\n",
    "\n",
    "lbdf"
   ]
  },
  {
   "cell_type": "code",
   "execution_count": 136,
   "metadata": {
    "collapsed": false
   },
   "outputs": [],
   "source": [
    "import matplotlib.pyplot as plt\n",
    "import numpy as np\n",
    "%matplotlib inline"
   ]
  },
  {
   "cell_type": "code",
   "execution_count": 149,
   "metadata": {
    "collapsed": false
   },
   "outputs": [
    {
     "data": {
      "text/plain": [
       "([<matplotlib.axis.XTick at 0x20d7418f4e0>,\n",
       "  <matplotlib.axis.XTick at 0x20d74183cc0>,\n",
       "  <matplotlib.axis.XTick at 0x20d74199a20>,\n",
       "  <matplotlib.axis.XTick at 0x20d741df390>,\n",
       "  <matplotlib.axis.XTick at 0x20d741dfda0>],\n",
       " <a list of 5 Text xticklabel objects>)"
      ]
     },
     "execution_count": 149,
     "metadata": {},
     "output_type": "execute_result"
    },
    {
     "data": {
      "image/png": "[encoded data removed]",
      "text/plain": [
       "<matplotlib.figure.Figure at 0x20d74112588>"
      ]
     },
     "metadata": {},
     "output_type": "display_data"
    }
   ],
   "source": [
    "CSR_ranks_plot = plt.scatter(range(0,len(lbdf)), lbdf[\"CSR Points\"])\n",
    "plt.xlabel(\"Gamertag\")\n",
    "plt.xticks(range(0, len(lbdf)), lbdf[\"Gamertag\"])"
   ]
  },
  {
   "cell_type": "code",
   "execution_count": null,
   "metadata": {
    "collapsed": true
   },
   "outputs": [],
   "source": []
  }
 ],
 "metadata": {
  "anaconda-cloud": {},
  "kernelspec": {
   "display_name": "Python [Root]",
   "language": "python",
   "name": "Python [Root]"
  },
  "language_info": {
   "codemirror_mode": {
    "name": "ipython",
    "version": 3
   },
   "file_extension": ".py",
   "mimetype": "text/x-python",
   "name": "python",
   "nbconvert_exporter": "python",
   "pygments_lexer": "ipython3",
   "version": "3.5.2"
  }
 },
 "nbformat": 4,
 "nbformat_minor": 0
}
